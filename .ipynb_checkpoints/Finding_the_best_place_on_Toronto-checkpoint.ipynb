{
 "cells": [
  {
   "cell_type": "markdown",
   "metadata": {},
   "source": [
    "# Finding the best place in Toronto"
   ]
  },
  {
   "cell_type": "markdown",
   "metadata": {},
   "source": [
    "## 1. Introduction"
   ]
  },
  {
   "cell_type": "markdown",
   "metadata": {},
   "source": [
    "Finding the correct place to start a restaurant can be challenging and risky, \n",
    "a lot of business close just for made a wrong selection about the place in which they start.\n",
    "<br/>\n",
    "In this case using the data available from the neighbourhoods in Toronto\n",
    "the plan is to search for the area with the best rating per venue and display on the map to have a better understanding about what places have the higher probability to have more afluency of people and that is near other good places.\n",
    "<br/>\n",
    "So we can see as a result the best area to start a new restaurant\n",
    "and separate it from the other areas that can have more risk.\n"
   ]
  },
  {
   "cell_type": "markdown",
   "metadata": {},
   "source": [
    "## 2. Data\n",
    "\n",
    "For the data we will use the list of postal codes of Canada that that is available on wikipedia as a table in html, this data contains the postal code, borought and neighbourhood.\n",
    "<br/>\n",
    "Also using a csv with the data of the latitude and longitude per postal code will help us to have a complete dataframe that could be used for our analysis.\n",
    "<br/>\n",
    "The data will be filtered taking just the Toronto places, and then using the FourSquare API to handle the retrieval of the ratings per location that we need to find the best posible place to start a restaurant."
   ]
  },
  {
   "cell_type": "code",
   "execution_count": null,
   "metadata": {},
   "outputs": [],
   "source": []
  }
 ],
 "metadata": {
  "kernelspec": {
   "display_name": "Python 3",
   "language": "python",
   "name": "python3"
  },
  "language_info": {
   "codemirror_mode": {
    "name": "ipython",
    "version": 3
   },
   "file_extension": ".py",
   "mimetype": "text/x-python",
   "name": "python",
   "nbconvert_exporter": "python",
   "pygments_lexer": "ipython3",
   "version": "3.7.5"
  }
 },
 "nbformat": 4,
 "nbformat_minor": 2
}
